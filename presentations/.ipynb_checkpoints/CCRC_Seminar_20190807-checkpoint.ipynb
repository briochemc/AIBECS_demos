{
 "cells": [
  {
   "cell_type": "markdown",
   "metadata": {
    "slideshow": {
     "slide_type": "slide"
    }
   },
   "source": [
    "<img src=\"https://user-images.githubusercontent.com/4486578/60554111-8fc27400-9d79-11e9-9ca7-6d78ee89ea70.png\" width=50% align=right>\n",
    "\n",
    "<h1>AIBECS.jl</h1>\n",
    "\n",
    "*The ideal tool for exploring global marine biogeochemical cycles*\n",
    "\n",
    "**A**lgebraic **I**mplicit **B**iogeochemical **E**lemental **C**ycling **S**ystem\n",
    "\n",
    "Check it on GitHub (look for [AIBECS.jl](https://github.com/briochemc/AIBECS.jl))"
   ]
  },
  {
   "cell_type": "markdown",
   "metadata": {
    "slideshow": {
     "slide_type": "fragment"
    }
   },
   "source": [
    "<img src=\"https://pbs.twimg.com/profile_images/1829321548/ess_logo_400x400.png\" width=10% align=right>\n",
    "<img src=\"https://user-images.githubusercontent.com/4486578/61599460-6d32c500-ac6c-11e9-9796-0b8892f0342d.png\" width=10% align=left>\n",
    "\n",
    "<center>A <b>Julia</b> package developed by <b>Benoît Pasquier</b> at the Department of Earth System Sciences, <b>UCI</b></center>"
   ]
  },
  {
   "cell_type": "markdown",
   "metadata": {
    "slideshow": {
     "slide_type": "slide"
    }
   },
   "source": [
    "# What is the AIBECS?\n",
    "\n",
    "&#8594; A system to easily create models of marine biogeochemistry.\n",
    "\n",
    "To build a BGC model with the AIBECS, you just need to\n",
    "\n",
    "1. Specify the <span style=\"color:#389826\">**local sources and sinks**</span>\n",
    "\n",
    "2. Chose the <span style=\"color:#4063d8\">**ocean circulation**</span>\n",
    "\n",
    "3. Specify the <span style=\"color:#9558b2\">**particle transport**</span> (for non-dissolved tracers if any)"
   ]
  },
  {
   "cell_type": "markdown",
   "metadata": {
    "slideshow": {
     "slide_type": "subslide"
    }
   },
   "source": [
    "<img src=\"https://user-images.githubusercontent.com/4486578/61606237-9a8f6b00-ac8c-11e9-8aa7-1267ab0f911a.png\" width=90%>"
   ]
  },
  {
   "cell_type": "markdown",
   "metadata": {
    "slideshow": {
     "slide_type": "slide"
    }
   },
   "source": [
    "#### Example 1: A radiocarbon model embedded in a 5-box-model circulation\n",
    "\n",
    "<img src=\"https://user-images.githubusercontent.com/4486578/58314610-3b130b80-7e53-11e9-9fe8-9527cdcca2d0.png\" width=80%>\n",
    "\n",
    "(Credit: François Primeau and Louis Primeau)"
   ]
  },
  {
   "cell_type": "markdown",
   "metadata": {
    "slideshow": {
     "slide_type": "subslide"
    }
   },
   "source": [
    "##### The circulation\n",
    "\n",
    "AIBECS provides the circulation as a sparse matrix\n",
    "\n",
    "$$\\nabla \\cdot \\left[ \\boldsymbol{u} - \\mathbf{K} \\cdot \\nabla \\right] C \\longrightarrow \\mathbf{T} \\, \\boldsymbol{C}$$\n",
    "\n",
    "Load the circulation via `load`:"
   ]
  },
  {
   "cell_type": "code",
   "execution_count": null,
   "metadata": {
    "slideshow": {
     "slide_type": "fragment"
    }
   },
   "outputs": [],
   "source": [
    "using AIBECS\n",
    "wet3D, grd, T = Primeau_2x2x2.load();"
   ]
  },
  {
   "cell_type": "markdown",
   "metadata": {
    "slideshow": {
     "slide_type": "fragment"
    }
   },
   "source": [
    "`wet3D` is the mask of \"wet\" points"
   ]
  },
  {
   "cell_type": "code",
   "execution_count": null,
   "metadata": {
    "slideshow": {
     "slide_type": "fragment"
    }
   },
   "outputs": [],
   "source": [
    "wet3D"
   ]
  },
  {
   "cell_type": "markdown",
   "metadata": {
    "slideshow": {
     "slide_type": "fragment"
    }
   },
   "source": [
    "`grd` is the grid of the circulation"
   ]
  },
  {
   "cell_type": "code",
   "execution_count": null,
   "metadata": {
    "slideshow": {
     "slide_type": "fragment"
    }
   },
   "outputs": [],
   "source": [
    "grd"
   ]
  },
  {
   "cell_type": "markdown",
   "metadata": {
    "slideshow": {
     "slide_type": "fragment"
    }
   },
   "source": [
    "We can inspect `grd` a little...<br>\n",
    "its size"
   ]
  },
  {
   "cell_type": "code",
   "execution_count": null,
   "metadata": {
    "scrolled": true,
    "slideshow": {
     "slide_type": "fragment"
    }
   },
   "outputs": [],
   "source": [
    "size(grd)"
   ]
  },
  {
   "cell_type": "markdown",
   "metadata": {
    "slideshow": {
     "slide_type": "fragment"
    }
   },
   "source": [
    "its boxes, one by one"
   ]
  },
  {
   "cell_type": "code",
   "execution_count": null,
   "metadata": {
    "scrolled": true,
    "slideshow": {
     "slide_type": "fragment"
    }
   },
   "outputs": [],
   "source": [
    "grd[4]"
   ]
  },
  {
   "cell_type": "markdown",
   "metadata": {
    "slideshow": {
     "slide_type": "fragment"
    }
   },
   "source": [
    "We can iterate on its boxes"
   ]
  },
  {
   "cell_type": "code",
   "execution_count": null,
   "metadata": {
    "scrolled": true,
    "slideshow": {
     "slide_type": "fragment"
    }
   },
   "outputs": [],
   "source": [
    "[println(box) for box in grd if (box.lat ≤ 0u\"°\") & (box.depth ≥ 1000u\"m\")];"
   ]
  },
  {
   "cell_type": "markdown",
   "metadata": {
    "slideshow": {
     "slide_type": "fragment"
    }
   },
   "source": [
    "We can check the depth of the boxes arranged in 3D"
   ]
  },
  {
   "cell_type": "code",
   "execution_count": null,
   "metadata": {
    "scrolled": true,
    "slideshow": {
     "slide_type": "fragment"
    }
   },
   "outputs": [],
   "source": [
    "grd.depth_3D"
   ]
  },
  {
   "cell_type": "markdown",
   "metadata": {
    "slideshow": {
     "slide_type": "fragment"
    }
   },
   "source": [
    "Or check their latitudes"
   ]
  },
  {
   "cell_type": "code",
   "execution_count": null,
   "metadata": {
    "scrolled": true,
    "slideshow": {
     "slide_type": "fragment"
    }
   },
   "outputs": [],
   "source": [
    "grd.lat_3D"
   ]
  },
  {
   "cell_type": "markdown",
   "metadata": {
    "slideshow": {
     "slide_type": "fragment"
    }
   },
   "source": [
    "`T` is the matrix of the circulation"
   ]
  },
  {
   "cell_type": "code",
   "execution_count": null,
   "metadata": {
    "slideshow": {
     "slide_type": "fragment"
    }
   },
   "outputs": [],
   "source": [
    "T"
   ]
  },
  {
   "cell_type": "markdown",
   "metadata": {
    "slideshow": {
     "slide_type": "fragment"
    }
   },
   "source": [
    "A sparse matrix is indexed by its non-zero values, but we can check it out in full"
   ]
  },
  {
   "cell_type": "code",
   "execution_count": null,
   "metadata": {
    "slideshow": {
     "slide_type": "fragment"
    }
   },
   "outputs": [],
   "source": [
    "Matrix(T)"
   ]
  },
  {
   "cell_type": "markdown",
   "metadata": {
    "slideshow": {
     "slide_type": "subslide"
    }
   },
   "source": [
    "<h5>Radiocarbon, a tracer label for water age</h5> \n",
    "\n",
    "<br>\n",
    "\n",
    "<img src=\"https://wserv4.esc.cam.ac.uk/pastclimate/wp-content/uploads/2014/09/Radiocarbon-cycle_2.jpg\" width=70% align=left>\n",
    "\n",
    "*Image credit: Luke Skinner, University of Cambridge*\n",
    "\n",
    "\n"
   ]
  },
  {
   "cell_type": "markdown",
   "metadata": {
    "slideshow": {
     "slide_type": "subslide"
    }
   },
   "source": [
    "<h5>Radiocarbon, a tracer label for water age</h5> \n",
    "\n",
    "- **Tracer equation**\n",
    "    ($x=$ Radiocarbon concentration)\n",
    "\n",
    "    $$\\frac{\\partial x}{\\partial t} + \\nabla \\cdot \\left[ \\boldsymbol{u} - \\mathbf{K} \\cdot \\nabla \\right] x = \\Lambda(R_\\mathsf{atm} - x) - x / \\tau$$\n",
    "\n",
    "    - $\\Lambda(R_\\mathsf{atm} - x) =$ air–sea exchange\n",
    "    - $x / \\tau=$ radioactive decay\n",
    "\n",
    "- With the **transport matrix**, `T`\n",
    "\n",
    "$$\\frac{\\partial \\boldsymbol{x}}{\\partial t} + \\mathbf{T} \\, \\boldsymbol{x} = \\mathbf{\\Lambda}(R_\\mathsf{atm} - \\boldsymbol{x}) - \\boldsymbol{x} / \\tau.$$"
   ]
  },
  {
   "cell_type": "markdown",
   "metadata": {
    "slideshow": {
     "slide_type": "subslide"
    }
   },
   "source": [
    "##### Translating to AIBECS Code is easy\n",
    "\n",
    "To use AIBECS, we recast the equations into the generic form of\n",
    "\n",
    "$$\\frac{\\partial \\boldsymbol{x}}{\\partial t} + \\mathbf{T}(\\boldsymbol{p}) \\, \\boldsymbol{x} = \\boldsymbol{G}(\\boldsymbol{x}, \\boldsymbol{p})$$\n",
    "\n",
    "- $\\mathbf{T}(\\boldsymbol{p}) =$ is the transport operator (here the matrix `T`)\n",
    "- $\\boldsymbol{G}(\\boldsymbol{x}, \\boldsymbol{p}) = \\mathbf{\\Lambda}(R_\\mathsf{atm} - \\boldsymbol{x}) - \\boldsymbol{x} / \\tau$ local sources minus sinks\n",
    "- $\\boldsymbol{p} =$ vector of model parameters\n"
   ]
  },
  {
   "cell_type": "code",
   "execution_count": null,
   "metadata": {
    "slideshow": {
     "slide_type": "fragment"
    }
   },
   "outputs": [],
   "source": [
    "function G(x, p)\n",
    "    τ, Ratm = p.τ, p.Ratm\n",
    "    return Λ(Ratm .- x, p) - x / τ\n",
    "end"
   ]
  },
  {
   "cell_type": "markdown",
   "metadata": {
    "slideshow": {
     "slide_type": "fragment"
    }
   },
   "source": [
    "Air–sea gas exchange:"
   ]
  },
  {
   "cell_type": "code",
   "execution_count": null,
   "metadata": {
    "slideshow": {
     "slide_type": "fragment"
    }
   },
   "outputs": [],
   "source": [
    "h = grd.δdepth[1] |> ustrip   # height of top layer\n",
    "Λ(x, p) = p.λ / h * surface_boxes .* x"
   ]
  },
  {
   "cell_type": "markdown",
   "metadata": {
    "slideshow": {
     "slide_type": "fragment"
    }
   },
   "source": [
    "Vector of surface boxes"
   ]
  },
  {
   "cell_type": "code",
   "execution_count": null,
   "metadata": {
    "slideshow": {
     "slide_type": "fragment"
    }
   },
   "outputs": [],
   "source": [
    "iwet = findall(vec(wet3D))\n",
    "surface_boxes = grd.depth_3D[iwet] .== grd.depth[1]"
   ]
  },
  {
   "cell_type": "markdown",
   "metadata": {
    "slideshow": {
     "slide_type": "subslide"
    }
   },
   "source": [
    "##### Creating model parameters with AIBECS is easy too"
   ]
  },
  {
   "cell_type": "code",
   "execution_count": null,
   "metadata": {
    "slideshow": {
     "slide_type": "fragment"
    }
   },
   "outputs": [],
   "source": [
    "t = empty_parameter_table()\n",
    "add_parameter!(t, :τ, 5730u\"yr\"/log(2)) # radioactive decay e-folding timescale\n",
    "add_parameter!(t, :λ, 50u\"m\" / 10u\"yr\") # piston velocity\n",
    "add_parameter!(t, :Ratm, 1.0u\"mol/m^3\") # atmospheric concentration\n",
    "t"
   ]
  },
  {
   "cell_type": "markdown",
   "metadata": {
    "slideshow": {
     "slide_type": "fragment"
    }
   },
   "source": [
    "Create `p`:"
   ]
  },
  {
   "cell_type": "code",
   "execution_count": null,
   "metadata": {
    "slideshow": {
     "slide_type": "fragment"
    }
   },
   "outputs": [],
   "source": [
    "initialize_Parameters_type(t, \"C14_shoebox_parameters\")\n",
    "p = C14_shoebox_parameters()   "
   ]
  },
  {
   "cell_type": "markdown",
   "metadata": {
    "slideshow": {
     "slide_type": "subslide"
    }
   },
   "source": [
    "##### Generate the state function and its Jacobian in a one liner\n",
    "\n",
    "$$\\frac{\\partial \\boldsymbol{x}}{\\partial t} = \\boldsymbol{F}(\\boldsymbol{x}, \\boldsymbol{p}) = \\boldsymbol{G}(\\boldsymbol{x}, \\boldsymbol{p}) - \\mathbf{T}(\\boldsymbol{p}) \\, \\boldsymbol{x} = \\boldsymbol{F}(\\boldsymbol{x}, \\boldsymbol{p})$$\n",
    "\n",
    "defines the rate of change of the state, $\\boldsymbol{x}$\n",
    "\n",
    "\n",
    "We generate `F` and `∇ₓF` via"
   ]
  },
  {
   "cell_type": "code",
   "execution_count": null,
   "metadata": {
    "slideshow": {
     "slide_type": "fragment"
    }
   },
   "outputs": [],
   "source": [
    "F, ∇ₓF = state_function_and_Jacobian(p -> T, G) ;"
   ]
  },
  {
   "cell_type": "markdown",
   "metadata": {
    "slideshow": {
     "slide_type": "fragment"
    }
   },
   "source": [
    "Let's try `F` on a random state vector `x`"
   ]
  },
  {
   "cell_type": "code",
   "execution_count": null,
   "metadata": {
    "slideshow": {
     "slide_type": "fragment"
    }
   },
   "outputs": [],
   "source": [
    "x = rand(length(iwet))\n",
    "F(x,p)"
   ]
  },
  {
   "cell_type": "markdown",
   "metadata": {
    "slideshow": {
     "slide_type": "fragment"
    }
   },
   "source": [
    "And `∇ₓF`:"
   ]
  },
  {
   "cell_type": "code",
   "execution_count": null,
   "metadata": {
    "slideshow": {
     "slide_type": "fragment"
    }
   },
   "outputs": [],
   "source": [
    "Matrix(∇ₓF(x,p))"
   ]
  },
  {
   "cell_type": "markdown",
   "metadata": {
    "slideshow": {
     "slide_type": "subslide"
    }
   },
   "source": [
    "##### Time stepping is provided\n",
    "\n",
    "AIBECS provides the [Crank-Nicolson](https://en.wikipedia.org/wiki/Crank%E2%80%93Nicolson_method) scheme.\n",
    "\n",
    "A single step:"
   ]
  },
  {
   "cell_type": "code",
   "execution_count": null,
   "metadata": {
    "slideshow": {
     "slide_type": "fragment"
    }
   },
   "outputs": [],
   "source": [
    "δt = ustrip(1.0u\"yr\" |> u\"s\")\n",
    "AIBECS.crank_nicolson_step(x, p, δt, F, ∇ₓF)"
   ]
  },
  {
   "cell_type": "markdown",
   "metadata": {
    "slideshow": {
     "slide_type": "fragment"
    }
   },
   "source": [
    "Let's track the evolution of `x` through time"
   ]
  },
  {
   "cell_type": "code",
   "execution_count": null,
   "metadata": {
    "slideshow": {
     "slide_type": "fragment"
    }
   },
   "outputs": [],
   "source": [
    "function time_steps(x₀, Δt, n, F, ∇ₓF)\n",
    "    x_hist = [x₀]\n",
    "    δt = Δt / n\n",
    "    for i in 1:n\n",
    "        push!(x_hist, AIBECS.crank_nicolson_step(last(x_hist), p, δt, F, ∇ₓF))\n",
    "    end\n",
    "    return reduce(hcat, x_hist), 0:δt:Δt\n",
    "end"
   ]
  },
  {
   "cell_type": "code",
   "execution_count": null,
   "metadata": {
    "slideshow": {
     "slide_type": "fragment"
    }
   },
   "outputs": [],
   "source": [
    "Δt = 5000u\"yr\" |> u\"s\" |> ustrip\n",
    "x₀ = ones(5)             \n",
    "x_hist, t_hist = time_steps(x₀, Δt, 1000, F, ∇ₓF)"
   ]
  },
  {
   "cell_type": "markdown",
   "metadata": {
    "slideshow": {
     "slide_type": "fragment"
    }
   },
   "source": [
    "Make a plot"
   ]
  },
  {
   "cell_type": "code",
   "execution_count": null,
   "metadata": {
    "slideshow": {
     "slide_type": "fragment"
    }
   },
   "outputs": [],
   "source": [
    "using PyPlot, PyCall\n",
    "C14age_hist = -log.(x_hist) * (p.τ * u\"s\" |> u\"yr\" |> ustrip)\n",
    "figure(figsize=(8,4))\n",
    "plot(t_hist .* 1u\"s\" .|> u\"yr\" .|> ustrip, C14age_hist')\n",
    "xlabel(\"simulation time (years)\")\n",
    "ylabel(\"¹⁴C age (years)\")\n",
    "legend(\"box \" .* string.(iwet))\n",
    "title(\"Simulation of the evolution of ¹⁴C age with Crank-Nicolson time steps\")"
   ]
  },
  {
   "cell_type": "markdown",
   "metadata": {
    "slideshow": {
     "slide_type": "fragment"
    }
   },
   "source": [
    "We chan check how **stable** the age is by tracking the norm of `F(x,p)`.\n",
    "Specifically, $\\frac{\\|\\boldsymbol{x}\\|}{\\|\\boldsymbol{F}(\\boldsymbol{x},\\boldsymbol{p})\\|}$ gives an **equilibrium timescale**:"
   ]
  },
  {
   "cell_type": "code",
   "execution_count": null,
   "metadata": {
    "slideshow": {
     "slide_type": "fragment"
    }
   },
   "outputs": [],
   "source": [
    "using LinearAlgebra\n",
    "Δt = 40000u\"yr\" |> u\"s\" |> ustrip\n",
    "x₀ = ones(5)             \n",
    "x_hist, t_hist = time_steps(x₀, Δt, 4000, F, ∇ₓF)\n",
    "figure(figsize=(7,3))\n",
    "semilogy(t_hist .* 1u\"s\" .|> u\"yr\" .|> ustrip, [norm(x_hist[:,i]) / norm(F(x_hist[:,i],p)) * 1u\"s\" |> u\"yr\" |> ustrip for i in 1:size(x_hist,2)])\n",
    "xlabel(\"simulation time (years)\")\n",
    "ylabel(\"Equilibirum timescale (years)\")\n",
    "title(\"Stability of ¹⁴C age with simulation time\")"
   ]
  },
  {
   "cell_type": "markdown",
   "metadata": {
    "slideshow": {
     "slide_type": "subslide"
    }
   },
   "source": [
    "##### Solving directly for the steady state in two lines\n",
    "\n",
    "Instead, we can directly solve for the **steady-state**, $\\boldsymbol{s}$,\n",
    "\n",
    "i.e., such that $\\boldsymbol{F}(\\boldsymbol{s},\\boldsymbol{p}) = 0$:"
   ]
  },
  {
   "cell_type": "code",
   "execution_count": null,
   "metadata": {
    "slideshow": {
     "slide_type": "fragment"
    }
   },
   "outputs": [],
   "source": [
    "prob = SteadyStateProblem(F, ∇ₓF, x, p)\n",
    "s = solve(prob, CTKAlg()).u"
   ]
  },
  {
   "cell_type": "markdown",
   "metadata": {
    "slideshow": {
     "slide_type": "fragment"
    }
   },
   "source": [
    "and check the equilibrium timescale at the steady-state solution, `s`"
   ]
  },
  {
   "cell_type": "code",
   "execution_count": null,
   "metadata": {
    "slideshow": {
     "slide_type": "fragment"
    }
   },
   "outputs": [],
   "source": [
    "norm(s) / norm(F(s,p)) * u\"s\" |> u\"yr\""
   ]
  },
  {
   "cell_type": "markdown",
   "metadata": {
    "slideshow": {
     "slide_type": "fragment"
    }
   },
   "source": [
    "Solving directly for the steady state is **equivalent to ~35'000 years** of model time-steps!"
   ]
  },
  {
   "cell_type": "markdown",
   "metadata": {
    "slideshow": {
     "slide_type": "slide"
    }
   },
   "source": [
    "# Using a *real* circulation\n",
    "\n",
    "The Ocean Circulation Inverse Model (OCIM)"
   ]
  },
  {
   "cell_type": "code",
   "execution_count": null,
   "metadata": {
    "slideshow": {
     "slide_type": "fragment"
    }
   },
   "outputs": [],
   "source": [
    "wet3D, grd, T = AIBECS.OCIM1.load() ;"
   ]
  },
  {
   "cell_type": "code",
   "execution_count": null,
   "metadata": {
    "slideshow": {
     "slide_type": "fragment"
    }
   },
   "outputs": [],
   "source": [
    "F, ∇ₓF = state_function_and_Jacobian(p -> T, G)"
   ]
  },
  {
   "cell_type": "code",
   "execution_count": null,
   "metadata": {
    "slideshow": {
     "slide_type": "fragment"
    }
   },
   "outputs": [],
   "source": [
    "iwet = findall(vec(wet3D))\n",
    "x = ones(size(iwet))"
   ]
  },
  {
   "cell_type": "code",
   "execution_count": null,
   "metadata": {
    "slideshow": {
     "slide_type": "fragment"
    }
   },
   "outputs": [],
   "source": [
    "p"
   ]
  },
  {
   "cell_type": "markdown",
   "metadata": {
    "slideshow": {
     "slide_type": "fragment"
    }
   },
   "source": [
    "Redefine `h` and `surface_boxes` for the new grid"
   ]
  },
  {
   "cell_type": "code",
   "execution_count": null,
   "metadata": {
    "slideshow": {
     "slide_type": "fragment"
    }
   },
   "outputs": [],
   "source": [
    "h = grd.δdepth[1] |> ustrip   \n",
    "surface_boxes = grd.depth_3D[iwet] .== grd.depth[1]"
   ]
  },
  {
   "cell_type": "code",
   "execution_count": null,
   "metadata": {
    "slideshow": {
     "slide_type": "fragment"
    }
   },
   "outputs": [],
   "source": [
    "F(x,p)"
   ]
  },
  {
   "cell_type": "code",
   "execution_count": null,
   "metadata": {
    "slideshow": {
     "slide_type": "fragment"
    }
   },
   "outputs": [],
   "source": [
    "∇ₓF(x,p)"
   ]
  },
  {
   "cell_type": "code",
   "execution_count": null,
   "metadata": {
    "slideshow": {
     "slide_type": "fragment"
    }
   },
   "outputs": [],
   "source": [
    "prob = SteadyStateProblem(F, ∇ₓF, x, p)"
   ]
  },
  {
   "cell_type": "code",
   "execution_count": null,
   "metadata": {
    "slideshow": {
     "slide_type": "fragment"
    }
   },
   "outputs": [],
   "source": [
    "s = solve(prob, CTKAlg()).u"
   ]
  },
  {
   "cell_type": "code",
   "execution_count": null,
   "metadata": {
    "slideshow": {
     "slide_type": "fragment"
    }
   },
   "outputs": [],
   "source": [
    "C14age = -log.(s) * p.τ * u\"s\" .|> u\"yr\""
   ]
  },
  {
   "cell_type": "code",
   "execution_count": null,
   "metadata": {
    "slideshow": {
     "slide_type": "fragment"
    }
   },
   "outputs": [],
   "source": [
    "C14age_3D = fill(NaN, size(grd))\n",
    "C14age_3D[iwet] .= ustrip.(C14age)\n",
    "levels = 0:100:2400\n",
    "using GR, Interact\n",
    "lon, lat = grd.lon |> ustrip, grd.lat |> ustrip\n",
    "GR.figure(figsize=(10,5))\n",
    "@manipulate for iz=1:24\n",
    "    GR.xlim([0,360])\n",
    "    GR.title(\"14C age at $(AIBECS.round(grd.depth[iz])) depth using the OCIM1 circulation\")\n",
    "    GR.contourf(lon, lat, C14age_3D[:,:,iz]', levels=levels)\n",
    "end\n"
   ]
  },
  {
   "cell_type": "code",
   "execution_count": null,
   "metadata": {
    "slideshow": {
     "slide_type": "fragment"
    }
   },
   "outputs": [],
   "source": [
    "GR.figure(figsize=(10,5))\n",
    "@manipulate for lon in (grd.lon .|> ustrip)\n",
    "    GR.title(\"14C age at $(round(lon))° longitude using the OCIM1 circulation\")\n",
    "    ilon = findfirst(ustrip.(grd.lon) .== lon)\n",
    "    GR.contourf(lat, reverse(-grd.depth .|> ustrip), reverse(C14age_3D[:,ilon,:], dims=2), levels=levels)\n",
    "end"
   ]
  },
  {
   "cell_type": "code",
   "execution_count": null,
   "metadata": {},
   "outputs": [],
   "source": []
  },
  {
   "cell_type": "code",
   "execution_count": null,
   "metadata": {},
   "outputs": [],
   "source": []
  }
 ],
 "metadata": {
  "@webio": {
   "lastCommId": null,
   "lastKernelId": null
  },
  "celltoolbar": "Slideshow",
  "kernelspec": {
   "display_name": "Julia 1.1.1",
   "language": "julia",
   "name": "julia-1.1"
  },
  "language_info": {
   "file_extension": ".jl",
   "mimetype": "application/julia",
   "name": "julia",
   "version": "1.1.1"
  },
  "rise": {
   "scroll": true
  }
 },
 "nbformat": 4,
 "nbformat_minor": 3
}
