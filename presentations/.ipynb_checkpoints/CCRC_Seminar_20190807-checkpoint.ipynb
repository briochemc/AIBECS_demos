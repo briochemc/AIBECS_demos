{
 "cells": [
  {
   "cell_type": "markdown",
   "metadata": {
    "slideshow": {
     "slide_type": "slide"
    }
   },
   "source": [
    "<img src=\"https://user-images.githubusercontent.com/4486578/60554111-8fc27400-9d79-11e9-9ca7-6d78ee89ea70.png\" width=50% align=right>\n",
    "\n",
    "<h1>AIBECS.jl</h1>\n",
    "\n",
    "*The ideal tool for exploring global marine biogeochemical cycles*\n",
    "\n",
    "**A**lgebraic **I**mplicit **B**iogeochemical **E**lemental **C**ycling **S**ystem\n",
    "\n",
    "Check it on GitHub (look for [AIBECS.jl](https://github.com/briochemc/AIBECS.jl))"
   ]
  },
  {
   "cell_type": "markdown",
   "metadata": {
    "slideshow": {
     "slide_type": "fragment"
    }
   },
   "source": [
    "<img src=\"https://pbs.twimg.com/profile_images/1829321548/ess_logo_400x400.png\" width=10% align=right>\n",
    "<img src=\"https://user-images.githubusercontent.com/4486578/61599460-6d32c500-ac6c-11e9-9796-0b8892f0342d.png\" width=10% align=left>\n",
    "\n",
    "<center>A <b>Julia</b> package developed by <b>Benoît Pasquier</b> at the Department of Earth System Sciences, <b>UCI</b><br>with François Primeau and J. Keith Moore</center>"
   ]
  },
  {
   "cell_type": "markdown",
   "metadata": {
    "slideshow": {
     "slide_type": "subslide"
    }
   },
   "source": [
    "# Outline\n",
    "\n",
    "1. Motivation and concept\n",
    "1. Example 1: Radiocarbon\n",
    "    1. Toy model circulation\n",
    "    1. OCIM1\n",
    "1. Example 2: Phosphorus cycle\n",
    "1. AIBECS ecosystem"
   ]
  },
  {
   "cell_type": "markdown",
   "metadata": {
    "slideshow": {
     "slide_type": "slide"
    }
   },
   "source": [
    "# Motivation: Starting from the AWESOME OCIM\n",
    "\n",
    "<img src=\"https://camo.githubusercontent.com/d33ea29faf90a62526b971f0f95cd1f390a87d5d/687474703a2f2f7777772e6d74656c2e726f636b732f6d74656c2f617765736f6d654f43494d5f66696c65732f414f2532306c6f676f2e6a7067\" width=25% align=right>\n",
    "\n",
    "The AWESOME OCIM (for A Working Environment for Simulating Ocean Movement and Elemental cycling in an Ocean Circulation Inverse Model framework) by <span style=\"color:#cb3c33\">**Seth John**</span> (USC)\n",
    "\n",
    "Features: **GUI**, **simple to use**, **fast**, and **good circulation**<br>(thanks to the OCIM1 by <span style=\"color:#cb3c33\">**Tim DeVries**</span> (UCSB))"
   ]
  },
  {
   "cell_type": "markdown",
   "metadata": {
    "slideshow": {
     "slide_type": "subslide"
    }
   },
   "source": [
    "# Motivation: comes the AIBECS\n",
    "\n",
    "<img src=\"https://user-images.githubusercontent.com/4486578/60554111-8fc27400-9d79-11e9-9ca7-6d78ee89ea70.png\" width=40% align=right>\n",
    "\n",
    "Features (at present)\n",
    "\n",
    "\\- <span style=\"color:#389826\">**simple to use**</span><br>\n",
    "\\- <span style=\"color:#389826\">**fast**</span><br>\n",
    "\\- <span style=\"color:#389826\">**Julia**</span> instead of MATLAB (free, open-source, better performance, and better syntax)<br>\n",
    "\\- <span style=\"color:#389826\">**nonlinear**</span> systems<br>\n",
    "\\- <span style=\"color:#389826\">**multiple tracers**</span><br>\n",
    "\\- <span style=\"color:#9558b2\">**Parameter estimation/optimization**</span> and <span style=\"color:#9558b2\">**Senstivity analysis**</span> (shameless plug: F-1 algorithm <span style=\"color:#9558b2\">seminar tomorrow</span> at the School of Mathematics)<br>\n",
    "\\- <span style=\"color:#389826\">**Other circulations**</span> (not just the OCIM)\n"
   ]
  },
  {
   "cell_type": "markdown",
   "metadata": {
    "slideshow": {
     "slide_type": "subslide"
    }
   },
   "source": [
    "<img src=\"https://user-images.githubusercontent.com/4486578/62023151-f4ef7500-b212-11e9-8fe5-8d67292790a5.gif\" align=right width=20%>\n",
    "\n",
    "# AIBECS Concept: a simple interface\n",
    "\n",
    "To build a BGC model with the AIBECS, you just need to\n",
    "\n",
    "**1.** Specify the <span style=\"color:#389826\">**local sources and sinks**</span>\n",
    "\n",
    "**2.** Chose the <span style=\"color:#4063d8\">**ocean circulation**</span><br>\n",
    "\n",
    "(**3.** Specify the <span style=\"color:#9558b2\">**particle transport**</span>, if any)"
   ]
  },
  {
   "cell_type": "markdown",
   "metadata": {
    "slideshow": {
     "slide_type": "subslide"
    }
   },
   "source": [
    "<img src=\"https://user-images.githubusercontent.com/4486578/61757212-fe3ba480-ae02-11e9-8d17-d72866eaafb5.gif\" width=40% align=right>\n",
    "\n",
    "### Vectorization of the grid\n",
    "\n",
    "The <span style=\"color:#4063d8\">**3D ocean grid**</span> is rearranged<br>into a <span style=\"color:#4063d8\">**1D column vector**</span>.\n",
    "\n",
    "And **linear operators** are represented by <span style=\"color:#4063d8\">**matrices**</span>."
   ]
  },
  {
   "cell_type": "markdown",
   "metadata": {
    "slideshow": {
     "slide_type": "slide"
    }
   },
   "source": [
    "<h1>Example 1: Radiocarbon, a tracer for water age</h1> \n",
    "\n",
    "<br>\n",
    "\n",
    "<img src=\"https://wserv4.esc.cam.ac.uk/pastclimate/wp-content/uploads/2014/09/Radiocarbon-cycle_2.jpg\" width=60% align=left>\n",
    "\n",
    "*Image credit: Luke Skinner, University of Cambridge*\n",
    "\n",
    "\n"
   ]
  },
  {
   "cell_type": "markdown",
   "metadata": {
    "slideshow": {
     "slide_type": "subslide"
    }
   },
   "source": [
    "<h1>Tracer equation: transport, sources, and sinks</h1> \n",
    "\n",
    "- **Tracer equation**\n",
    "    ($x=$ Radiocarbon concentration)\n",
    "\n",
    "    $$\\frac{\\partial x}{\\partial t} + \\nabla \\cdot \\left[ \\boldsymbol{u} - \\mathbf{K} \\cdot \\nabla \\right] x = \\Lambda(R_\\mathsf{atm} - x) - x / \\tau$$\n",
    "\n",
    "    - $\\Lambda(R_\\mathsf{atm} - x) =$ air–sea exchange\n",
    "    - $x / \\tau=$ radioactive decay\n",
    "\n",
    "- With the **transport matrix**, `T`\n",
    "\n",
    "$$\\frac{\\partial \\boldsymbol{x}}{\\partial t} + \\mathbf{T} \\, \\boldsymbol{x} = \\mathbf{\\Lambda}(R_\\mathsf{atm} - \\boldsymbol{x}) - \\boldsymbol{x} / \\tau.$$"
   ]
  },
  {
   "cell_type": "markdown",
   "metadata": {
    "slideshow": {
     "slide_type": "subslide"
    }
   },
   "source": [
    "# Translating to AIBECS Code is easy\n",
    "\n",
    "To use AIBECS, we must recast \n",
    "\n",
    "$$\\frac{\\partial \\boldsymbol{x}}{\\partial t} + \\mathbf{T} \\, \\boldsymbol{x} = \\mathbf{\\Lambda}(R_\\mathsf{atm} - \\boldsymbol{x}) - \\boldsymbol{x} / \\tau$$\n",
    "\n",
    "into the generic form of\n",
    "\n",
    "$$\\frac{\\partial \\boldsymbol{x}}{\\partial t} + \\mathbf{T}(\\boldsymbol{p}) \\, \\boldsymbol{x} = \\boldsymbol{G}(\\boldsymbol{x}, \\boldsymbol{p})$$\n",
    "\n",
    "where $\\boldsymbol{p} =$ vector of model parameters\n"
   ]
  },
  {
   "cell_type": "markdown",
   "metadata": {
    "slideshow": {
     "slide_type": "slide"
    }
   },
   "source": [
    "# <span style=\"color:#4063d8\">Circulation 1</span>: The 2×2×2 \"Primeau\" model\n",
    "\n",
    "<img src=\"https://user-images.githubusercontent.com/4486578/58314610-3b130b80-7e53-11e9-9fe8-9527cdcca2d0.png\" width=70% align=right>\n",
    "\n",
    "\\- **ACC**: Antarctic Circumpolar Current\n",
    "\n",
    "\\- **MOC**: Meridional Overturning Circulation\n",
    "\n",
    "\\- High-latitude mixing\n",
    "\n",
    "\n",
    "(Credit: François Primeau, and Louis Primeau for the image)"
   ]
  },
  {
   "cell_type": "markdown",
   "metadata": {
    "slideshow": {
     "slide_type": "subslide"
    }
   },
   "source": [
    "Load the <span style=\"color:#4063d8\">**circulation**</span> via `load`:"
   ]
  },
  {
   "cell_type": "code",
   "execution_count": null,
   "metadata": {
    "slideshow": {
     "slide_type": "fragment"
    }
   },
   "outputs": [],
   "source": [
    "using AIBECS\n",
    "wet3D, grd, T = Primeau_2x2x2.load();"
   ]
  },
  {
   "cell_type": "markdown",
   "metadata": {
    "slideshow": {
     "slide_type": "subslide"
    }
   },
   "source": [
    "<img src=\"https://user-images.githubusercontent.com/4486578/61757362-946fca80-ae03-11e9-829c-2df22547582b.png\" width=10% align=right>\n",
    "\n",
    "`wet3D` is the mask of \"wet\" points"
   ]
  },
  {
   "cell_type": "code",
   "execution_count": null,
   "metadata": {
    "slideshow": {
     "slide_type": "fragment"
    }
   },
   "outputs": [],
   "source": [
    "wet3D"
   ]
  },
  {
   "cell_type": "markdown",
   "metadata": {
    "slideshow": {
     "slide_type": "subslide"
    }
   },
   "source": [
    "`grd` is the grid of the circulation"
   ]
  },
  {
   "cell_type": "code",
   "execution_count": null,
   "metadata": {
    "slideshow": {
     "slide_type": "fragment"
    }
   },
   "outputs": [],
   "source": [
    "grd"
   ]
  },
  {
   "cell_type": "markdown",
   "metadata": {
    "slideshow": {
     "slide_type": "fragment"
    }
   },
   "source": [
    "<img src=\"https://user-images.githubusercontent.com/4486578/61757362-946fca80-ae03-11e9-829c-2df22547582b.png\" width=10% align=right>\n",
    "We can check the depth of the boxes arranged in 3D"
   ]
  },
  {
   "cell_type": "code",
   "execution_count": null,
   "metadata": {
    "scrolled": true,
    "slideshow": {
     "slide_type": "fragment"
    }
   },
   "outputs": [],
   "source": [
    "grd.depth_3D"
   ]
  },
  {
   "cell_type": "markdown",
   "metadata": {
    "slideshow": {
     "slide_type": "subslide"
    }
   },
   "source": [
    "<img src=\"https://user-images.githubusercontent.com/4486578/61774591-825d4e80-ae3a-11e9-9a1d-f76a53da7da9.png\" width=30% align=right>\n",
    "\n",
    "### The matrix <span style=\"color:#4063d8\">$\\mathbf{T}$</span> (`T` here) acts on the column vector\n",
    "\n",
    "What does `T` look like?"
   ]
  },
  {
   "cell_type": "code",
   "execution_count": null,
   "metadata": {
    "scrolled": true,
    "slideshow": {
     "slide_type": "fragment"
    }
   },
   "outputs": [],
   "source": [
    "T"
   ]
  },
  {
   "cell_type": "markdown",
   "metadata": {
    "slideshow": {
     "slide_type": "fragment"
    }
   },
   "source": [
    "A sparse matrix is indexed by its non-zero values, but we can check it out in full"
   ]
  },
  {
   "cell_type": "code",
   "execution_count": null,
   "metadata": {
    "slideshow": {
     "slide_type": "fragment"
    }
   },
   "outputs": [],
   "source": [
    "Matrix(T)"
   ]
  },
  {
   "cell_type": "markdown",
   "metadata": {
    "slideshow": {
     "slide_type": "subslide"
    }
   },
   "source": [
    "# <span style=\"color:#389826\">Sources and sinks</span>\n",
    "\n",
    "Tracer equation reminder:\n",
    "\n",
    "$$\\frac{\\partial \\boldsymbol{x}}{\\partial t} + \\mathbf{T}(\\boldsymbol{p}) \\, \\boldsymbol{x} = \\boldsymbol{G}(\\boldsymbol{x}, \\boldsymbol{p})$$\n",
    "\n",
    "Let's write $\\boldsymbol{G}(\\boldsymbol{x}, \\boldsymbol{p}) = \\mathbf{\\Lambda}(R_\\mathsf{atm} - \\boldsymbol{x}) - \\boldsymbol{x} / \\tau$"
   ]
  },
  {
   "cell_type": "code",
   "execution_count": null,
   "metadata": {
    "slideshow": {
     "slide_type": "fragment"
    }
   },
   "outputs": [],
   "source": [
    "function G(x, p)\n",
    "    τ, Ratm = p.τ, p.Ratm\n",
    "    return Λ(Ratm .- x, p) - x / τ\n",
    "end"
   ]
  },
  {
   "cell_type": "markdown",
   "metadata": {
    "slideshow": {
     "slide_type": "subslide"
    }
   },
   "source": [
    "## <span style=\"color:#389826\">Air–sea gas exchange</span>\n",
    "\n",
    "And define the air–sea gas exchange $\\mathbf{\\Lambda}(R_\\mathsf{atm} - \\boldsymbol{x}) = \\frac{\\lambda}{h} (R_\\mathsf{atm} - \\boldsymbol{x})$ at the surface with a piston velocity $\\lambda$ over the top layer of height $h$"
   ]
  },
  {
   "cell_type": "code",
   "execution_count": null,
   "metadata": {
    "slideshow": {
     "slide_type": "fragment"
    }
   },
   "outputs": [],
   "source": [
    "Λ(x, p) = p.λ / h * x .* (z .== z₀)"
   ]
  },
  {
   "cell_type": "markdown",
   "metadata": {
    "slideshow": {
     "slide_type": "fragment"
    }
   },
   "source": [
    "where `(z .== z₀)` is `true` for boxes in the surface layer only"
   ]
  },
  {
   "cell_type": "markdown",
   "metadata": {
    "slideshow": {
     "slide_type": "subslide"
    }
   },
   "source": [
    "Define `h` the height of the top layer"
   ]
  },
  {
   "cell_type": "code",
   "execution_count": null,
   "metadata": {
    "slideshow": {
     "slide_type": "fragment"
    }
   },
   "outputs": [],
   "source": [
    "h = grd.δdepth[1] |> ustrip"
   ]
  },
  {
   "cell_type": "markdown",
   "metadata": {
    "slideshow": {
     "slide_type": "subslide"
    }
   },
   "source": [
    "<img src=\"https://user-images.githubusercontent.com/4486578/61757212-fe3ba480-ae02-11e9-8d17-d72866eaafb5.gif\" width=20% align=right>\n",
    "\n",
    "Define `z` the depths in vector form.<br>\n",
    "(`iwet` converts from 3D to 1D)"
   ]
  },
  {
   "cell_type": "code",
   "execution_count": null,
   "metadata": {
    "slideshow": {
     "slide_type": "fragment"
    }
   },
   "outputs": [],
   "source": [
    "iwet = findall(wet3D)\n",
    "z = grd.depth_3D[iwet] "
   ]
  },
  {
   "cell_type": "markdown",
   "metadata": {
    "slideshow": {
     "slide_type": "subslide"
    }
   },
   "source": [
    "Define `z₀` the depth of the top layer"
   ]
  },
  {
   "cell_type": "code",
   "execution_count": null,
   "metadata": {
    "slideshow": {
     "slide_type": "fragment"
    }
   },
   "outputs": [],
   "source": [
    "z₀ = z[1]"
   ]
  },
  {
   "cell_type": "markdown",
   "metadata": {
    "slideshow": {
     "slide_type": "fragment"
    }
   },
   "source": [
    "So that `z .== z₀` is `true` at the surface layer"
   ]
  },
  {
   "cell_type": "code",
   "execution_count": null,
   "metadata": {
    "slideshow": {
     "slide_type": "fragment"
    }
   },
   "outputs": [],
   "source": [
    "z .== z₀"
   ]
  },
  {
   "cell_type": "markdown",
   "metadata": {
    "slideshow": {
     "slide_type": "subslide"
    }
   },
   "source": [
    "# <span style=\"color:#cb3c33\">Model parameters</span>\n",
    "\n",
    "First, create a table of parameters using the AIBECS API"
   ]
  },
  {
   "cell_type": "code",
   "execution_count": null,
   "metadata": {
    "scrolled": true,
    "slideshow": {
     "slide_type": "fragment"
    }
   },
   "outputs": [],
   "source": [
    "t = empty_parameter_table()\n",
    "add_parameter!(t,    :τ, 5730u\"yr\" / log(2)) # radioactive decay e-folding timescale\n",
    "add_parameter!(t,    :λ,   50u\"m\" / 10u\"yr\") # piston velocity\n",
    "add_parameter!(t, :Ratm,      1.0u\"mol/m^3\") # atmospheric concentration\n",
    "t "
   ]
  },
  {
   "cell_type": "markdown",
   "metadata": {
    "slideshow": {
     "slide_type": "subslide"
    }
   },
   "source": [
    "Then, chose a name for the parameters (here `C14_parameters`), and create the vector `p`:"
   ]
  },
  {
   "cell_type": "code",
   "execution_count": null,
   "metadata": {
    "scrolled": true,
    "slideshow": {
     "slide_type": "fragment"
    }
   },
   "outputs": [],
   "source": [
    "initialize_Parameters_type(t, \"C14_parameters\")\n",
    "p = C14_parameters()   "
   ]
  },
  {
   "cell_type": "markdown",
   "metadata": {
    "slideshow": {
     "slide_type": "fragment"
    }
   },
   "source": [
    "Note `p` has units! \n",
    "\n",
    "In AIBECS, you give your parameters units and they are <span style=\"color:#cb3c33\">**automatically converted to SI units**</span> under the hood.\n",
    "\n",
    "(And they are converted back for pretty printing!)"
   ]
  },
  {
   "cell_type": "markdown",
   "metadata": {
    "slideshow": {
     "slide_type": "subslide"
    }
   },
   "source": [
    "# <span style=\"color:#cb3c33\">State function</span> (and <span style=\"color:#cb3c33\"> Jacobian</span>)\n",
    "\n",
    "$$\\frac{\\partial \\boldsymbol{x}}{\\partial t} = \\boldsymbol{G}(\\boldsymbol{x}, \\boldsymbol{p}) - \\mathbf{T}(\\boldsymbol{p}) \\, \\boldsymbol{x} = \\boldsymbol{F}(\\boldsymbol{x}, \\boldsymbol{p})$$"
   ]
  },
  {
   "cell_type": "markdown",
   "metadata": {
    "slideshow": {
     "slide_type": "fragment"
    }
   },
   "source": [
    "We generate `F` and `∇ₓF` via"
   ]
  },
  {
   "cell_type": "code",
   "execution_count": null,
   "metadata": {
    "slideshow": {
     "slide_type": "fragment"
    }
   },
   "outputs": [],
   "source": [
    "F, ∇ₓF = state_function_and_Jacobian(p -> T, G) ;"
   ]
  },
  {
   "cell_type": "markdown",
   "metadata": {
    "slideshow": {
     "slide_type": "subslide"
    }
   },
   "source": [
    "## The <span style=\"color:#cb3c33\">state function</span> `F(x,p)`\n",
    "\n",
    "Let's try `F` on a random state vector `x`"
   ]
  },
  {
   "cell_type": "code",
   "execution_count": null,
   "metadata": {
    "scrolled": true,
    "slideshow": {
     "slide_type": "fragment"
    }
   },
   "outputs": [],
   "source": [
    "x = rand(length(iwet))\n",
    "F(x,p)"
   ]
  },
  {
   "cell_type": "markdown",
   "metadata": {
    "slideshow": {
     "slide_type": "subslide"
    }
   },
   "source": [
    "##  The <span style=\"color:#cb3c33\">Jacobian</span> `∇ₓF`\n",
    "\n",
    "The Jacobian matrix is $\\nabla_{\\boldsymbol{x}}\\boldsymbol{F}(\\boldsymbol{x},\\boldsymbol{p}) = \\left[\\frac{\\partial F_i}{\\partial x_j}\\right]_{i,j}$, is useful for \n",
    "- **implicit** time-steps\n",
    "- **solving** the **steady-state** system\n",
    "- **optimization** / **uncertainty analysis**\n",
    "\n",
    "With AIBECS, the **Jacobian** is <span style=\"color:#cb3c33\">**computed automatically**</span> for you under the hood... using <span style=\"color:#cb3c33\">**dual numbers**</span>!<br>\n",
    "(Come to my Applied seminar tomorrow for more on dual numbers and... hyperdual numbers!)"
   ]
  },
  {
   "cell_type": "markdown",
   "metadata": {
    "slideshow": {
     "slide_type": "subslide"
    }
   },
   "source": [
    "Let's try `∇ₓF` at `x`:"
   ]
  },
  {
   "cell_type": "code",
   "execution_count": null,
   "metadata": {
    "slideshow": {
     "slide_type": "fragment"
    }
   },
   "outputs": [],
   "source": [
    "Matrix(∇ₓF(x,p))"
   ]
  },
  {
   "cell_type": "markdown",
   "metadata": {
    "slideshow": {
     "slide_type": "subslide"
    }
   },
   "source": [
    "# <span style=\"color:#cb3c33\">Time stepping</span>\n",
    "\n",
    "AIBECS provides schemes for time-stepping\n",
    "- Euler forward\n",
    "- Euler backward\n",
    "- **Crank-Nicolson**\n",
    "- Crank-Nicolson leap-frog"
   ]
  },
  {
   "cell_type": "markdown",
   "metadata": {
    "slideshow": {
     "slide_type": "subslide"
    }
   },
   "source": [
    "Let's track the evolution of `x` through time\n",
    "\n",
    "Define a function to apply the time steps `n` times for a time span of `Δt` starting from `x₀`"
   ]
  },
  {
   "cell_type": "code",
   "execution_count": null,
   "metadata": {
    "slideshow": {
     "slide_type": "fragment"
    }
   },
   "outputs": [],
   "source": [
    "function time_steps(x₀, Δt, n, F, ∇ₓF)\n",
    "    x_hist = [x₀]\n",
    "    δt = Δt / n\n",
    "    for i in 1:n\n",
    "        push!(x_hist, AIBECS.crank_nicolson_step(last(x_hist), p, δt, F, ∇ₓF))\n",
    "    end\n",
    "    return reduce(hcat, x_hist), 0:δt:Δt\n",
    "end"
   ]
  },
  {
   "cell_type": "markdown",
   "metadata": {
    "slideshow": {
     "slide_type": "subslide"
    }
   },
   "source": [
    "Let's run the model for 5000 years starting with `x = 1` everywhere:"
   ]
  },
  {
   "cell_type": "code",
   "execution_count": null,
   "metadata": {
    "slideshow": {
     "slide_type": "fragment"
    }
   },
   "outputs": [],
   "source": [
    "Δt = 5000u\"yr\" |> u\"s\" |> ustrip\n",
    "x₀ = ones(5)             \n",
    "x_hist, t_hist = time_steps(x₀, Δt, 1000, F, ∇ₓF)  "
   ]
  },
  {
   "cell_type": "markdown",
   "metadata": {
    "slideshow": {
     "slide_type": "subslide"
    }
   },
   "source": [
    "#### Plotting the output is easy\n",
    "\n",
    "The radiocarbon age, `C14age`, is given by $\\log(R_{\\mathrm{atm}}/\\boldsymbol{x}) \\tau$ because $\\boldsymbol{x}\\sim R_{\\mathrm{atm}} \\exp(-t/\\tau)$\n",
    "\n",
    "Let's plot its evolution with time:"
   ]
  },
  {
   "cell_type": "code",
   "execution_count": null,
   "metadata": {
    "scrolled": true,
    "slideshow": {
     "slide_type": "fragment"
    }
   },
   "outputs": [],
   "source": [
    "using PyPlot, PyCall\n",
    "C14age_hist = log.(p.Ratm ./ x_hist) * (p.τ * u\"s\" |> u\"yr\" |> ustrip)\n",
    "figure(figsize=(8,4))\n",
    "plot(t_hist .* 1u\"s\" .|> u\"yr\" .|> ustrip, C14age_hist')\n",
    "xlabel(\"simulation time (years)\")\n",
    "ylabel(\"¹⁴C age (years)\")\n",
    "legend(\"box \" .* string.(findall(vec(wet3D))))\n",
    "title(\"Simulation of the evolution of ¹⁴C age with Crank-Nicolson time steps\")"
   ]
  },
  {
   "cell_type": "markdown",
   "metadata": {
    "slideshow": {
     "slide_type": "subslide"
    }
   },
   "source": [
    "# <span style=\"color:#cb3c33\">Solve directly for the steady state</span>\n",
    "\n",
    "Instead, we can directly solve for the **steady-state**, $\\boldsymbol{s}$,<br>\n",
    "(using `CTKAlg()`, a quasi-Newton root-finding algorithm from C. T. Kelley)\n",
    "\n",
    "i.e., such that $\\boldsymbol{F}(\\boldsymbol{s},\\boldsymbol{p}) = 0$:"
   ]
  },
  {
   "cell_type": "code",
   "execution_count": null,
   "metadata": {
    "slideshow": {
     "slide_type": "fragment"
    }
   },
   "outputs": [],
   "source": [
    "prob = SteadyStateProblem(F, ∇ₓF, x, p)\n",
    "s = solve(prob, CTKAlg()).u"
   ]
  },
  {
   "cell_type": "markdown",
   "metadata": {
    "slideshow": {
     "slide_type": "fragment"
    }
   },
   "source": [
    "gives the age"
   ]
  },
  {
   "cell_type": "code",
   "execution_count": null,
   "metadata": {
    "slideshow": {
     "slide_type": "fragment"
    }
   },
   "outputs": [],
   "source": [
    "log.(p.Ratm ./ s) * (p.τ * u\"s\" |> u\"yr\")"
   ]
  },
  {
   "cell_type": "markdown",
   "metadata": {
    "slideshow": {
     "slide_type": "subslide"
    }
   },
   "source": [
    "# 35'000 years without the steady-state solver!\n",
    "\n",
    "How long would it take to reach that steady-state with time-stepping?\n",
    "\n",
    "We chan check by tracking the norm of `F(x,p)`:"
   ]
  },
  {
   "cell_type": "code",
   "execution_count": null,
   "metadata": {
    "scrolled": true,
    "slideshow": {
     "slide_type": "fragment"
    }
   },
   "outputs": [],
   "source": [
    "using LinearAlgebra\n",
    "Δt = 40000u\"yr\" |> u\"s\" |> ustrip\n",
    "x_hist, t_hist = time_steps(x₀, Δt, 4000, F, ∇ₓF)\n",
    "figure(figsize=(7,3))\n",
    "semilogy(t_hist .* 1u\"s\" .|> u\"yr\" .|> ustrip, [norm(F(s,p)) for i in 1:size(x_hist,2)], label=\"steady-state\")\n",
    "semilogy(t_hist .* 1u\"s\" .|> u\"yr\" .|> ustrip, [norm(F(x_hist[:,i],p)) for i in 1:size(x_hist,2)], label=\"time-stepping\")\n",
    "xlabel(\"simulation time (years)\"); ylabel(\"|F(x,p)| (mol m⁻³ s⁻¹)\"); legend(); title(\"Stability of ¹⁴C age with simulation time\")"
   ]
  },
  {
   "cell_type": "markdown",
   "metadata": {
    "slideshow": {
     "slide_type": "slide"
    }
   },
   "source": [
    "# <span style=\"color:#4063d8\">Circulation 2</span>: OCIM1\n",
    "\n",
    "The Ocean Circulation Inverse Model (OCIM) version 1 is loaded via"
   ]
  },
  {
   "cell_type": "code",
   "execution_count": null,
   "metadata": {
    "slideshow": {
     "slide_type": "fragment"
    }
   },
   "outputs": [],
   "source": [
    "wet3D, grd, T = AIBECS.OCIM1.load() ;"
   ]
  },
  {
   "cell_type": "markdown",
   "metadata": {
    "slideshow": {
     "slide_type": "subslide"
    }
   },
   "source": [
    "Redefine `F` and `∇ₓF` for the new `T`:"
   ]
  },
  {
   "cell_type": "code",
   "execution_count": null,
   "metadata": {
    "slideshow": {
     "slide_type": "fragment"
    }
   },
   "outputs": [],
   "source": [
    "F, ∇ₓF = state_function_and_Jacobian(p -> T, G) ;"
   ]
  },
  {
   "cell_type": "markdown",
   "metadata": {
    "slideshow": {
     "slide_type": "subslide"
    }
   },
   "source": [
    "Redefine `iwet` and `x` for the new grid size"
   ]
  },
  {
   "cell_type": "code",
   "execution_count": null,
   "metadata": {
    "slideshow": {
     "slide_type": "fragment"
    }
   },
   "outputs": [],
   "source": [
    "iwet = findall(wet3D)\n",
    "x = ones(length(iwet))"
   ]
  },
  {
   "cell_type": "markdown",
   "metadata": {
    "slideshow": {
     "slide_type": "fragment"
    }
   },
   "source": [
    "Redefine `h`, `z₀`, and `z` for the new grid"
   ]
  },
  {
   "cell_type": "code",
   "execution_count": null,
   "metadata": {
    "slideshow": {
     "slide_type": "fragment"
    }
   },
   "outputs": [],
   "source": [
    "h = grd.δdepth[1] |> ustrip\n",
    "z = grd.depth_3D[iwet]\n",
    "z₀ = z[1]"
   ]
  },
  {
   "cell_type": "markdown",
   "metadata": {
    "slideshow": {
     "slide_type": "subslide"
    }
   },
   "source": [
    "Solve for the steady-state of radio carbon and convert to age"
   ]
  },
  {
   "cell_type": "code",
   "execution_count": null,
   "metadata": {
    "slideshow": {
     "slide_type": "fragment"
    }
   },
   "outputs": [],
   "source": [
    "prob = SteadyStateProblem(F, ∇ₓF, x, p)\n",
    "s = solve(prob, CTKAlg()).u \n",
    "C14age = log.(p.Ratm ./ s) * p.τ * u\"s\" .|> u\"yr\""
   ]
  },
  {
   "cell_type": "markdown",
   "metadata": {
    "slideshow": {
     "slide_type": "subslide"
    }
   },
   "source": [
    "And plot horizontal slices using GR and Interact:"
   ]
  },
  {
   "cell_type": "code",
   "execution_count": null,
   "metadata": {
    "scrolled": true,
    "slideshow": {
     "slide_type": "fragment"
    }
   },
   "outputs": [],
   "source": [
    "C14age_3D = fill(NaN, size(grd))\n",
    "C14age_3D[iwet] .= ustrip.(C14age)\n",
    "levels = 0:100:2400\n",
    "using GR, Interact\n",
    "lon, lat = grd.lon |> ustrip, grd.lat |> ustrip\n",
    "GR.figure(figsize=(10,5))\n",
    "@manipulate for iz=1:24\n",
    "    GR.xlim([0,360])\n",
    "    GR.title(\"14C age at $(AIBECS.round(grd.depth[iz])) depth using the OCIM1 circulation\")\n",
    "    GR.contourf(lon, lat, C14age_3D[:,:,iz]', levels=levels)\n",
    "end"
   ]
  },
  {
   "cell_type": "markdown",
   "metadata": {
    "slideshow": {
     "slide_type": "subslide"
    }
   },
   "source": [
    "Or zonal slices:"
   ]
  },
  {
   "cell_type": "code",
   "execution_count": null,
   "metadata": {
    "slideshow": {
     "slide_type": "fragment"
    }
   },
   "outputs": [],
   "source": [
    "GR.figure(figsize=(10,5))\n",
    "@manipulate for longitude in (grd.lon .|> ustrip)\n",
    "    GR.title(\"14C age at $(round(longitude))° longitude using the OCIM1 circulation\")\n",
    "    ilon = findfirst(ustrip.(grd.lon) .== longitude)\n",
    "    GR.contourf(lat, reverse(-grd.depth .|> ustrip), reverse(C14age_3D[:,ilon,:], dims=2), levels=levels)\n",
    "end"
   ]
  },
  {
   "cell_type": "markdown",
   "metadata": {
    "slideshow": {
     "slide_type": "slide"
    }
   },
   "source": [
    "<img src=\"https://user-images.githubusercontent.com/4486578/62021873-e9994b00-b20c-11e9-88eb-adf892d7ecad.gif\" width=20% align=right>\n",
    "\n",
    "<h1>Example 2: A phosphorus cycle</h1> \n",
    "\n",
    "Dissolved inorganic phosphrous (<span style=\"color:#4063d8\">**DIP**</span>)<br>\n",
    "(transported by the <span style=\"color:#4063d8\">**ocean circulation**</span>)\n",
    "\n",
    "$$\\left[\\frac{\\partial}{\\partial t} + \\nabla \\cdot (\\boldsymbol{u} + \\mathbf{K}\\cdot\\nabla )\\right] x_\\mathsf{DIP} = -U(x_\\mathsf{DIP}) + R(x_\\mathsf{POP}),$$\n",
    "\n",
    "and particulate organic phosphrous (<span style=\"color:#9558b2\">**POP**</span>)<br>\n",
    "(transported by <span style=\"color:#9558b2\">**sinking particles**</span>)\n",
    "\n",
    "\n",
    "$$\\left[\\frac{\\partial}{\\partial t} + \\nabla \\cdot \\boldsymbol{w}\\right] x_\\mathsf{POP} = U(x_\\mathsf{DIP}) - R(x_\\mathsf{POP}).$$"
   ]
  },
  {
   "cell_type": "markdown",
   "metadata": {
    "slideshow": {
     "slide_type": "subslide"
    }
   },
   "source": [
    "## <span style=\"color:#4063d8\">Ocean circulation</span>\n",
    "\n",
    "For DIP, the <span style=\"color:#4063d8\">**advective–eddy-diffusive transport**</span> operator, $\\nabla \\cdot (\\boldsymbol{u} + \\mathbf{K}\\cdot\\nabla)$, is converted into the matrix `T`:"
   ]
  },
  {
   "cell_type": "code",
   "execution_count": null,
   "metadata": {
    "slideshow": {
     "slide_type": "fragment"
    }
   },
   "outputs": [],
   "source": [
    "T_DIP(p) = T"
   ]
  },
  {
   "cell_type": "markdown",
   "metadata": {
    "slideshow": {
     "slide_type": "subslide"
    }
   },
   "source": [
    "## <span style=\"color:#9558b2\">Sinking particles</span>\n",
    "\n",
    "For POP, the <span style=\"color:#9558b2\">**particle flux divergence (PFD)**</span> operator, $\\nabla \\cdot \\boldsymbol{w}$, is created via `buildPFD`:"
   ]
  },
  {
   "cell_type": "code",
   "execution_count": null,
   "metadata": {
    "slideshow": {
     "slide_type": "fragment"
    }
   },
   "outputs": [],
   "source": [
    "T_POP(p) = buildPFD(grd, wet3D, sinking_speed = w(p))"
   ]
  },
  {
   "cell_type": "markdown",
   "metadata": {
    "slideshow": {
     "slide_type": "fragment"
    }
   },
   "source": [
    "The settling velocity, `w(p)`, is assumed linearly increasing with depth `z` to yield a \"Martin curve profile\""
   ]
  },
  {
   "cell_type": "code",
   "execution_count": null,
   "metadata": {
    "slideshow": {
     "slide_type": "fragment"
    }
   },
   "outputs": [],
   "source": [
    "w(p) = p.w₀ .+ p.w′ * (z .|> ustrip)"
   ]
  },
  {
   "cell_type": "markdown",
   "metadata": {
    "slideshow": {
     "slide_type": "subslide"
    }
   },
   "source": [
    "## <span style=\"color:#389826\">Local sources and sinks</span>"
   ]
  },
  {
   "cell_type": "markdown",
   "metadata": {
    "slideshow": {
     "slide_type": "fragment"
    }
   },
   "source": [
    "### \"Geological\" restoring\n",
    "$$\\frac{x_\\mathrm{geo} - \\boldsymbol{x}_\\mathrm{DIP}}{\\tau_\\mathrm{geo}}$$"
   ]
  },
  {
   "cell_type": "code",
   "execution_count": null,
   "metadata": {
    "slideshow": {
     "slide_type": "fragment"
    }
   },
   "outputs": [],
   "source": [
    "geores(x, p) = (p.xgeo .- x) / p.τgeo"
   ]
  },
  {
   "cell_type": "markdown",
   "metadata": {
    "slideshow": {
     "slide_type": "fragment"
    }
   },
   "source": [
    "### Uptake:\n",
    "$$\\frac{1}{τ} \\, \\frac{\\boldsymbol{x}_\\mathrm{DIP}^2}{\\boldsymbol{x}_\\mathrm{DIP} + k}$$"
   ]
  },
  {
   "cell_type": "code",
   "execution_count": null,
   "metadata": {
    "slideshow": {
     "slide_type": "fragment"
    }
   },
   "outputs": [],
   "source": [
    "relu(x) = (x .≥ 0) .* x\n",
    "zₑ = 80u\"m\"    # depth of the euphotic zone\n",
    "function uptake(DIP, p)\n",
    "    τ, k = p.τ, p.k\n",
    "    DIP⁺ = relu(DIP)\n",
    "    return 1/τ * DIP⁺.^2 ./ (DIP⁺ .+ k) .* (z .≤ zₑ)\n",
    "end"
   ]
  },
  {
   "cell_type": "markdown",
   "metadata": {
    "slideshow": {
     "slide_type": "fragment"
    }
   },
   "source": [
    "### Remineralization:\n",
    "$$\\kappa \\, \\boldsymbol{x}_\\mathrm{POP}$$"
   ]
  },
  {
   "cell_type": "code",
   "execution_count": null,
   "metadata": {
    "slideshow": {
     "slide_type": "fragment"
    }
   },
   "outputs": [],
   "source": [
    "remineralization(POP, p) = p.κ * POP"
   ]
  },
  {
   "cell_type": "markdown",
   "metadata": {
    "slideshow": {
     "slide_type": "fragment"
    }
   },
   "source": [
    "### <span style=\"color:#389826\">Net local sources and sinks</span>"
   ]
  },
  {
   "cell_type": "code",
   "execution_count": null,
   "metadata": {
    "slideshow": {
     "slide_type": "fragment"
    }
   },
   "outputs": [],
   "source": [
    "G_DIP(DIP, POP, p) = -uptake(DIP, p) + remineralization(POP, p) + geores(DIP, p)\n",
    "G_POP(DIP, POP, p) =  uptake(DIP, p) - remineralization(POP, p)"
   ]
  },
  {
   "cell_type": "markdown",
   "metadata": {
    "slideshow": {
     "slide_type": "subslide"
    }
   },
   "source": [
    "## <span style=\"color:#cb3c33\">Parameters</span>"
   ]
  },
  {
   "cell_type": "code",
   "execution_count": null,
   "metadata": {
    "slideshow": {
     "slide_type": "fragment"
    }
   },
   "outputs": [],
   "source": [
    "t = empty_parameter_table()    # empty table of parameters\n",
    "add_parameter!(t, :xgeo, 2.12u\"mmol/m^3\")\n",
    "add_parameter!(t, :τgeo, 1.0u\"Myr\")\n",
    "add_parameter!(t, :k, 6.62u\"μmol/m^3\")\n",
    "add_parameter!(t, :w₀, 0.64u\"m/d\")\n",
    "add_parameter!(t, :w′, 0.13u\"1/d\")\n",
    "add_parameter!(t, :κ, 0.19u\"1/d\")\n",
    "add_parameter!(t, :τ, 236.52u\"d\")\n",
    "initialize_Parameters_type(t, \"Pcycle_Parameters\")   # Generate the parameter type\n",
    "p = Pcycle_Parameters()"
   ]
  },
  {
   "cell_type": "markdown",
   "metadata": {
    "slideshow": {
     "slide_type": "subslide"
    }
   },
   "source": [
    "# <span style=\"color:#cb3c33\">State function `F`</span> and <span style=\"color:#cb3c33\">Jacobian `∇ₓF`</span>"
   ]
  },
  {
   "cell_type": "code",
   "execution_count": null,
   "metadata": {
    "slideshow": {
     "slide_type": "fragment"
    }
   },
   "outputs": [],
   "source": [
    "nb = length(iwet); x = ones(2nb)\n",
    "F, ∇ₓF = state_function_and_Jacobian((T_DIP,T_POP), (G_DIP,G_POP), nb) ;"
   ]
  },
  {
   "cell_type": "markdown",
   "metadata": {
    "slideshow": {
     "slide_type": "subslide"
    }
   },
   "source": [
    "Solve the steady-state PDE system"
   ]
  },
  {
   "cell_type": "code",
   "execution_count": null,
   "metadata": {
    "slideshow": {
     "slide_type": "fragment"
    }
   },
   "outputs": [],
   "source": [
    "prob = SteadyStateProblem(F, ∇ₓF, x, p)\n",
    "s = solve(prob, CTKAlg(), preprint=\" \").u"
   ]
  },
  {
   "cell_type": "markdown",
   "metadata": {
    "slideshow": {
     "slide_type": "subslide"
    }
   },
   "source": [
    "Plot DIP"
   ]
  },
  {
   "cell_type": "code",
   "execution_count": null,
   "metadata": {
    "slideshow": {
     "slide_type": "fragment"
    }
   },
   "outputs": [],
   "source": [
    "DIP, POP = state_to_tracers(s, nb, 2)\n",
    "DIP_3D = fill(NaN, size(grd))\n",
    "DIP_unit = u\"mmol/m^3\"\n",
    "DIP_3D[iwet] .= DIP * (1u\"mol/m^3\" |> DIP_unit |> ustrip)\n",
    "DIP_levels = 0:0.1:3\n",
    "GR.figure(figsize=(10,5))\n",
    "@manipulate for iz in 1:24\n",
    "    GR.xlim([0,360])\n",
    "    GR.title(\"P-cycle model: DIP at $(AIBECS.round(grd.depth[iz])) depth; unit $DIP_unit\")\n",
    "    GR.contourf(lon, lat, DIP_3D[:,:,iz]', levels=DIP_levels)\n",
    "end"
   ]
  },
  {
   "cell_type": "markdown",
   "metadata": {
    "slideshow": {
     "slide_type": "subslide"
    }
   },
   "source": [
    "Plot POP"
   ]
  },
  {
   "cell_type": "code",
   "execution_count": null,
   "metadata": {
    "scrolled": true,
    "slideshow": {
     "slide_type": "fragment"
    }
   },
   "outputs": [],
   "source": [
    "POP_3D = fill(NaN, size(grd))\n",
    "POP_unit = u\"μmol/m^3\"\n",
    "POP_3D[iwet] .= POP * (1u\"mol/m^3\" |> POP_unit |> ustrip)\n",
    "POP_levels = 0:0.1:1\n",
    "GR.figure(figsize=(10,5))\n",
    "@manipulate for iz in 1:24\n",
    "    GR.xlim([0,360])\n",
    "    GR.title(\"My P-cycle model: POP at $(AIBECS.round(grd.depth[iz])) depth; unit $POP_unit\")\n",
    "    GR.contourf(lon, lat, POP_3D[:,:,iz]', levels=POP_levels)\n",
    "end"
   ]
  },
  {
   "cell_type": "markdown",
   "metadata": {
    "slideshow": {
     "slide_type": "fragment"
    }
   },
   "source": [
    "We can also make publication-quality plots using Python's Cartopy"
   ]
  },
  {
   "cell_type": "code",
   "execution_count": null,
   "metadata": {
    "scrolled": true,
    "slideshow": {
     "slide_type": "fragment"
    }
   },
   "outputs": [],
   "source": [
    "ccrs = pyimport(\"cartopy.crs\")\n",
    "lon_cyc = [lon; 360+lon[1]]\n",
    "DIP_3D_cyc = cat(DIP_3D, DIP_3D[:,[1],:], dims=2)\n",
    "f1 = PyPlot.figure(figsize=(9,7))\n",
    "@manipulate for iz in 1:24\n",
    "    withfig(f1, clear=true) do\n",
    "        ax = PyPlot.subplot(projection = ccrs.EqualEarth(central_longitude=-155.0))\n",
    "        ax.coastlines()\n",
    "        plt2 = PyPlot.contourf(lon_cyc, lat, DIP_3D_cyc[:,:,iz], levels=DIP_levels, \n",
    "            transform=ccrs.PlateCarree(), zorder=-1, extend=\"both\")\n",
    "        PyPlot.colorbar(plt2, orientation=\"horizontal\", label=string(DIP_unit), extend=\"both\")\n",
    "        title(\"PO₄ at $(string(round(typeof(1u\"m\"),grd.depth[iz]))) depth\")\n",
    "    end\n",
    "end"
   ]
  },
  {
   "cell_type": "markdown",
   "metadata": {
    "slideshow": {
     "slide_type": "slide"
    }
   },
   "source": [
    "<img src=\"https://user-images.githubusercontent.com/4486578/61606237-9a8f6b00-ac8c-11e9-8aa7-1267ab0f911a.png\" width=90%>"
   ]
  },
  {
   "cell_type": "code",
   "execution_count": null,
   "metadata": {},
   "outputs": [],
   "source": []
  }
 ],
 "metadata": {
  "@webio": {
   "lastCommId": null,
   "lastKernelId": null
  },
  "celltoolbar": "Slideshow",
  "kernelspec": {
   "display_name": "Julia 1.1.1",
   "language": "julia",
   "name": "julia-1.1"
  },
  "language_info": {
   "file_extension": ".jl",
   "mimetype": "application/julia",
   "name": "julia",
   "version": "1.1.1"
  },
  "rise": {
   "scroll": true
  }
 },
 "nbformat": 4,
 "nbformat_minor": 4
}
